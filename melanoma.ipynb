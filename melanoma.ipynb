{
 "cells": [
  {
   "cell_type": "code",
   "execution_count": 1,
   "metadata": {},
   "outputs": [
    {
     "name": "stderr",
     "output_type": "stream",
     "text": [
      "b:\\pythonProjects\\MelanomaClassification\\.venv\\lib\\site-packages\\tqdm\\auto.py:21: TqdmWarning: IProgress not found. Please update jupyter and ipywidgets. See https://ipywidgets.readthedocs.io/en/stable/user_install.html\n",
      "  from .autonotebook import tqdm as notebook_tqdm\n"
     ]
    }
   ],
   "source": [
    "import os\n",
    "import numpy as np\n",
    "import pandas as pd\n",
    "import cv2\n",
    "import matplotlib.pyplot as plt\n",
    "\n",
    "import torch\n",
    "import torch.nn as nn\n",
    "import torch.optim as optim\n",
    "from torch.optim.lr_scheduler import CosineAnnealingWarmRestarts\n",
    "from torch.utils.data import DataLoader, WeightedRandomSampler\n",
    "from torchvision import transforms\n",
    "from sklearn.metrics import roc_auc_score, average_precision_score, f1_score\n",
    "\n",
    "from efficientnet_pytorch import EfficientNet\n",
    "import albumentations as A\n",
    "from albumentations.pytorch import ToTensorV2\n",
    "from tqdm import tqdm\n",
    "\n",
    "# Custom DataLoader (Assuming you have this defined)\n",
    "from DataLoader import Data_Loader"
   ]
  },
  {
   "cell_type": "code",
   "execution_count": null,
   "metadata": {},
   "outputs": [],
   "source": [
    "train_df = pd.read_csv('data/train.csv')  \n",
    "train_df = train_df.drop(['tfrecord','width','height'],axis=1)\n",
    "train_df.head()"
   ]
  },
  {
   "cell_type": "code",
   "execution_count": null,
   "metadata": {},
   "outputs": [],
   "source": [
    "from sklearn import model_selection\n",
    "\n",
    "\n",
    "df = train_df.sample(frac=1).reset_index(drop=True)\n",
    "df['kfold'] = -1\n",
    "y = train_df.target.values\n",
    "kf = model_selection.StratifiedKFold(n_splits=5,shuffle=True,random_state=42)\n",
    "idx = kf.get_n_splits(X=df,y=y)\n",
    "\n",
    "for fold,(x,y) in enumerate(kf.split(X=df,y=y)):\n",
    "    df.loc[y,'kfold'] = fold\n",
    "df.to_csv('train_fold_tpu.csv',index=False)"
   ]
  },
  {
   "cell_type": "code",
   "execution_count": 3,
   "metadata": {},
   "outputs": [],
   "source": [
    "df = pd.read_csv('train_fold_tpu.csv')"
   ]
  },
  {
   "cell_type": "markdown",
   "metadata": {},
   "source": [
    "Subset smaller for faster training and fine tuning the parameters"
   ]
  },
  {
   "cell_type": "code",
   "execution_count": null,
   "metadata": {},
   "outputs": [],
   "source": [
    "# Select one fold for initial tuning (e.g., fold 0)\n",
    "tuning_fold = df[df['kfold'] == 0].reset_index(drop=True)\n",
    "test_df = df[df['kfold']==1].reset_index(drop=True)\n",
    "# Check class distribution for confirmation\n",
    "print(tuning_fold['target'].value_counts())\n",
    "print(test_df['target'].value_counts())"
   ]
  },
  {
   "cell_type": "code",
   "execution_count": 2,
   "metadata": {},
   "outputs": [],
   "source": [
    "from efficientnet_pytorch import EfficientNet \n",
    "\n",
    "class EfficientNetClassifier(nn.Module):\n",
    "    def __init__(self, model_version='b4', num_classes=1, dropout_rate=0.3):\n",
    "        super(EfficientNetClassifier, self).__init__()\n",
    "        \n",
    "        model_name = f'efficientnet-{model_version}'\n",
    "        # Instance of the EfficientNet model with pre-trained weights\n",
    "        self.feature_extractor = EfficientNet.from_pretrained(model_name)\n",
    "        \n",
    "        # Get the number of input features from the last layer of EfficientNet\n",
    "        num_features = self.feature_extractor._fc.in_features\n",
    "        \n",
    "        self.classifier = nn.Sequential(\n",
    "            nn.Dropout(0.5),  # Increased dropout\n",
    "            nn.Linear(num_features, 512),\n",
    "            nn.BatchNorm1d(512),\n",
    "            nn.ReLU(),\n",
    "            nn.Dropout(0.5),\n",
    "            nn.Linear(512, 256),\n",
    "            nn.BatchNorm1d(256),\n",
    "            nn.ReLU(),\n",
    "            nn.Dropout(0.5),  # Increased dropout\n",
    "            nn.Linear(256, num_classes)\n",
    "        )\n",
    "        \n",
    "    def forward(self, images):\n",
    "        batch_size = images.shape[0]\n",
    "        \n",
    "        # Extract features using the EfficientNet model\n",
    "        features = self.feature_extractor.extract_features(images)\n",
    "        \n",
    "        # Pool and reshape features\n",
    "        pooled_features = nn.functional.adaptive_avg_pool2d(features, 1).reshape(batch_size, -1)\n",
    "        \n",
    "        # Pass pooled features through the classifier\n",
    "        output = self.classifier(pooled_features)\n",
    "        \n",
    "        return output  # Return logits directly"
   ]
  },
  {
   "cell_type": "code",
   "execution_count": 3,
   "metadata": {},
   "outputs": [
    {
     "name": "stdout",
     "output_type": "stream",
     "text": [
      "Loaded pretrained weights for efficientnet-b4\n"
     ]
    }
   ],
   "source": [
    "model = EfficientNetClassifier(model_version='b4', num_classes=1, dropout_rate=0.5)\n",
    "\n",
    "\n",
    "class EarlyStopping:\n",
    "    def __init__(self, patience=7, mode=\"min\", delta=0):\n",
    "        self.patience = patience\n",
    "        self.counter = 0\n",
    "        self.mode = mode\n",
    "        self.best_score = None\n",
    "        self.early_stop = False\n",
    "        self.delta = delta\n",
    "\n",
    "    def __call__(self, score):\n",
    "        if self.best_score is None:\n",
    "            self.best_score = score\n",
    "        elif (self.mode == \"min\" and score > self.best_score - self.delta) or \\\n",
    "             (self.mode == \"max\" and score < self.best_score + self.delta):\n",
    "            self.counter += 1\n",
    "            if self.counter >= self.patience:\n",
    "                self.early_stop = True\n",
    "        else:\n",
    "            self.best_score = score\n",
    "            self.counter = 0\n",
    "        return self.early_stop\n",
    "\n",
    "# Configuration Parameters\n",
    "CONFIG = {\n",
    "    'normalization_mean': (0.485, 0.456, 0.406),\n",
    "    'normalization_std': (0.229, 0.224, 0.225),\n",
    "    'image_size': (384, 384),\n",
    "    'batch_size': 26,\n",
    "    'num_epochs': 5,\n",
    "    'learning_rate': 3e-5,\n",
    "    'weight_decay': 1e-4,\n",
    "    'early_stopping_patience': 10,\n",
    "}\n",
    "\n",
    "# Define Focal Loss function\n",
    "class FocalLoss(nn.Module):\n",
    "    def __init__(self, alpha=1.5, gamma=2.0, reduction='mean'):\n",
    "        super(FocalLoss, self).__init__()\n",
    "        self.alpha = alpha\n",
    "        self.gamma = gamma\n",
    "        self.reduction = reduction\n",
    "\n",
    "    def forward(self, inputs, targets):\n",
    "        BCE_loss = nn.BCEWithLogitsLoss(reduction='none')(inputs, targets)\n",
    "        pt = torch.exp(-BCE_loss)\n",
    "        F_loss = self.alpha * (1 - pt) ** self.gamma * BCE_loss\n",
    "        \n",
    "        if self.reduction == 'mean':\n",
    "            return F_loss.mean()\n",
    "        elif self.reduction == 'sum':\n",
    "            return F_loss.sum()\n",
    "        else:\n",
    "            return F_loss"
   ]
  },
  {
   "cell_type": "markdown",
   "metadata": {},
   "source": [
    "This is a similar version of training but for the small subset of fold 0 for training and fold 1 for validating, also use AMP for faster training time"
   ]
  },
  {
   "cell_type": "code",
   "execution_count": 6,
   "metadata": {},
   "outputs": [],
   "source": [
    "def train_epoch(model, dataloader, criterion, optimizer, device, scaler):\n",
    "    model.train()\n",
    "    total_loss = 0\n",
    "    predictions = []\n",
    "    targets = []\n",
    "    \n",
    "    for data, labels in tqdm(dataloader):\n",
    "        data, labels = data.to(device), labels.to(device)\n",
    "        \n",
    "        optimizer.zero_grad()\n",
    "        scaler = torch.amp.GradScaler(\"cuda\")\n",
    "        # Use AMP for mixed precision training\n",
    "        with torch.amp.autocast(\"cuda\"):\n",
    "            outputs = model(data)\n",
    "            loss = criterion(outputs, labels.unsqueeze(1))\n",
    "        \n",
    "        # Backward pass with AMP scaler\n",
    "        scaler.scale(loss).backward()\n",
    "        scaler.step(optimizer)\n",
    "        scaler.update()\n",
    "\n",
    "        total_loss += loss.item() * data.shape[0]\n",
    "        prob_outputs = torch.sigmoid(outputs).detach().cpu().numpy()\n",
    "        predictions.extend(prob_outputs.flatten())\n",
    "        targets.extend(labels.cpu().numpy())\n",
    "        \n",
    "    return total_loss / len(dataloader.dataset), predictions, targets\n",
    "\n",
    "# Validation epoch function with AMP\n",
    "def validate_epoch(model, dataloader, criterion, device, scaler):\n",
    "    model.eval()\n",
    "    total_loss = 0\n",
    "    predictions = []\n",
    "    targets = []\n",
    "    \n",
    "    with torch.no_grad():\n",
    "        for data, labels in tqdm(dataloader):\n",
    "            data, labels = data.to(device), labels.to(device)\n",
    "            \n",
    "            # Use AMP for mixed precision inference\n",
    "            with torch.amp.autocast('cuda'):\n",
    "                outputs = model(data)\n",
    "                loss = criterion(outputs, labels.unsqueeze(1))\n",
    "            \n",
    "            total_loss += loss.item() * data.shape[0]\n",
    "            prob_outputs = torch.sigmoid(outputs).detach().cpu().numpy()\n",
    "            predictions.extend(prob_outputs.flatten())\n",
    "            targets.extend(labels.cpu().numpy())\n",
    "    \n",
    "    return total_loss / len(dataloader.dataset), predictions, targets\n"
   ]
  },
  {
   "cell_type": "code",
   "execution_count": 7,
   "metadata": {},
   "outputs": [],
   "source": [
    "def get_train_transforms():\n",
    "    return A.Compose([\n",
    "        A.Normalize(mean=CONFIG['normalization_mean'], std=CONFIG['normalization_std'], max_pixel_value=255.0),\n",
    "        A.ShiftScaleRotate(shift_limit=0.1, scale_limit=0.2, rotate_limit=30, p=0.7),\n",
    "        A.HorizontalFlip(p=0.5),\n",
    "        A.VerticalFlip(p=0.5),\n",
    "        A.RandomBrightnessContrast(brightness_limit=0.2, contrast_limit=0.2, p=0.75),\n",
    "        A.CLAHE(clip_limit=4.0, p=0.7),\n",
    "        ToTensorV2(),\n",
    "    ])\n",
    "\n",
    "def get_valid_transforms():\n",
    "    return A.Compose([\n",
    "        A.Normalize(mean=CONFIG['normalization_mean'], std=CONFIG['normalization_std'], max_pixel_value=255.0),\n",
    "        ToTensorV2(),\n",
    "    ])\n",
    "\n",
    "# Modify your optimizer and scheduler here\n",
    "def train_model(model, train_fold, valid_fold, df):\n",
    "    device = torch.device(\"cuda\" if torch.cuda.is_available() else \"cpu\")\n",
    "    \n",
    "    # Load data transformations\n",
    "    train_transforms = get_train_transforms()\n",
    "    valid_transforms = get_valid_transforms()\n",
    "    \n",
    "    # Prepare training and validation datasets from specified folds\n",
    "    image_directory = 'data/train'\n",
    "    train_df = df[df.kfold == train_fold].reset_index(drop=True)\n",
    "    valid_df = df[df.kfold == valid_fold].reset_index(drop=True)\n",
    "\n",
    "    train_dataset = Data_Loader(image_directory, train_df.image_name.tolist(), train_df.target.values, train_transforms).dataset\n",
    "    valid_dataset = Data_Loader(image_directory, valid_df.image_name.tolist(), valid_df.target.values, valid_transforms).dataset\n",
    "\n",
    "    # WeightedRandomSampler for handling class imbalance\n",
    "    class_sample_counts = train_df['target'].value_counts().sort_index().values\n",
    "    class_weights = 1. / torch.tensor(class_sample_counts, dtype=torch.float)\n",
    "    sample_weights = class_weights[train_df['target'].values]\n",
    "    weighted_sampler = WeightedRandomSampler(weights=sample_weights, num_samples=len(sample_weights), replacement=True)\n",
    "\n",
    "    # DataLoader with WeightedRandomSampler for training\n",
    "    train_loader = torch.utils.data.DataLoader(\n",
    "        train_dataset, num_workers=4, pin_memory=True, batch_size=CONFIG['batch_size'], sampler=weighted_sampler)\n",
    "    valid_loader = torch.utils.data.DataLoader(\n",
    "        valid_dataset, num_workers=4, pin_memory=True, batch_size=CONFIG['batch_size'], shuffle=False)\n",
    "    \n",
    "    model.to(device)\n",
    "    loss_criterion = FocalLoss(alpha=0.5, gamma=2.0).to(device)\n",
    "\n",
    "    # Use AdamW optimizer with weight decay for better generalization\n",
    "    optimizer = optim.AdamW(model.parameters(), lr=CONFIG['learning_rate'], weight_decay=CONFIG['weight_decay'])\n",
    "\n",
    "    # Scheduler: CosineAnnealingWarmRestarts or ReduceLROnPlateau\n",
    "    scheduler = CosineAnnealingWarmRestarts(optimizer, T_0=10, T_mult=2, eta_min=1e-6)\n",
    "    # Or you could use ReduceLROnPlateau\n",
    "    # scheduler = ReduceLROnPlateau(optimizer, mode='max', factor=0.5, patience=2, verbose=True)\n",
    "\n",
    "    # Initialize AMP scaler\n",
    "    scaler = torch.amp.GradScaler('cuda')\n",
    "\n",
    "    best_valid_pr_auc = 0.0\n",
    "    best_model = None\n",
    "    no_improve_epochs = 0\n",
    "\n",
    "    for epoch in range(CONFIG['num_epochs']):\n",
    "        # Training phase\n",
    "        model.train()\n",
    "        train_loss, train_predictions, train_targets = train_epoch(model, train_loader, loss_criterion, optimizer, device, scaler)\n",
    "        \n",
    "        # Validation phase\n",
    "        model.eval()\n",
    "        valid_loss, valid_predictions, valid_targets = validate_epoch(model, valid_loader, loss_criterion, device, scaler)\n",
    "        \n",
    "        # Calculate PR AUC scores\n",
    "        train_pr_auc = average_precision_score(train_targets, train_predictions)\n",
    "        valid_pr_auc = average_precision_score(valid_targets, valid_predictions)\n",
    "        train_f1 = f1_score(train_targets, np.round(train_predictions), pos_label=1, zero_division=0)\n",
    "        valid_f1 = f1_score(valid_targets, np.round(valid_predictions), pos_label=1, zero_division=0)\n",
    "        print(f\"Train F1-Score: {train_f1:.4f}\")\n",
    "        print(f\"Valid F1-Score: {valid_f1:.4f}\")\n",
    "\n",
    "        print(f\"Epoch {epoch+1}/{CONFIG['num_epochs']}: Train Loss: {train_loss:.4f}, Train PR AUC: {train_pr_auc:.4f}, Valid Loss: {valid_loss:.4f}, Valid PR AUC: {valid_pr_auc:.4f}\")\n",
    "\n",
    "        # Update learning rate scheduler\n",
    "        scheduler.step()  # If using CosineAnnealingWarmRestarts\n",
    "        # scheduler.step(valid_pr_auc)  # If using ReduceLROnPlateau, use validation PR AUC to trigger adjustments\n",
    "        \n",
    "        # Save the best model based on validation PR AUC\n",
    "        if valid_pr_auc > best_valid_pr_auc:\n",
    "            best_valid_pr_auc = valid_pr_auc\n",
    "            best_model = model.state_dict().copy()\n",
    "            no_improve_epochs = 0\n",
    "            print(\"New best model saved based on validation PR AUC\")\n",
    "        else:\n",
    "            no_improve_epochs += 1\n",
    "        \n",
    "        # Early stopping condition\n",
    "        if no_improve_epochs >= CONFIG['early_stopping_patience']:\n",
    "            print(f\"Early stopping triggered after {epoch+1} epochs with no improvement in PR AUC\")\n",
    "            break\n",
    "\n",
    "        torch.cuda.empty_cache()\n",
    "    \n",
    "    model.load_state_dict(best_model)\n",
    "    return model, best_model\n",
    "\n"
   ]
  },
  {
   "cell_type": "code",
   "execution_count": 8,
   "metadata": {},
   "outputs": [
    {
     "name": "stderr",
     "output_type": "stream",
     "text": [
      "100%|██████████| 255/255 [02:08<00:00,  1.98it/s]\n",
      "100%|██████████| 255/255 [00:44<00:00,  5.72it/s]\n"
     ]
    },
    {
     "name": "stdout",
     "output_type": "stream",
     "text": [
      "Train F1-Score: 0.8948\n",
      "Valid F1-Score: 0.5799\n",
      "Epoch 1/5: Train Loss: 0.0327, Train PR AUC: 0.9661, Valid Loss: 0.0052, Valid PR AUC: 0.8539\n",
      "New best model saved based on validation PR AUC\n"
     ]
    },
    {
     "name": "stderr",
     "output_type": "stream",
     "text": [
      "100%|██████████| 255/255 [02:08<00:00,  1.99it/s]\n",
      "100%|██████████| 255/255 [00:44<00:00,  5.70it/s]\n"
     ]
    },
    {
     "name": "stdout",
     "output_type": "stream",
     "text": [
      "Train F1-Score: 0.9892\n",
      "Valid F1-Score: 0.9333\n",
      "Epoch 2/5: Train Loss: 0.0061, Train PR AUC: 0.9994, Valid Loss: 0.0011, Valid PR AUC: 0.9978\n",
      "New best model saved based on validation PR AUC\n"
     ]
    },
    {
     "name": "stderr",
     "output_type": "stream",
     "text": [
      "100%|██████████| 255/255 [02:07<00:00,  1.99it/s]\n",
      "100%|██████████| 255/255 [00:44<00:00,  5.74it/s]\n"
     ]
    },
    {
     "name": "stdout",
     "output_type": "stream",
     "text": [
      "Train F1-Score: 0.9958\n",
      "Valid F1-Score: 0.9520\n",
      "Epoch 3/5: Train Loss: 0.0033, Train PR AUC: 0.9998, Valid Loss: 0.0008, Valid PR AUC: 0.9988\n",
      "New best model saved based on validation PR AUC\n"
     ]
    },
    {
     "name": "stderr",
     "output_type": "stream",
     "text": [
      "100%|██████████| 255/255 [02:07<00:00,  1.99it/s]\n",
      "100%|██████████| 255/255 [00:44<00:00,  5.71it/s]\n"
     ]
    },
    {
     "name": "stdout",
     "output_type": "stream",
     "text": [
      "Train F1-Score: 0.9943\n",
      "Valid F1-Score: 0.9831\n",
      "Epoch 4/5: Train Loss: 0.0029, Train PR AUC: 0.9998, Valid Loss: 0.0004, Valid PR AUC: 1.0000\n",
      "New best model saved based on validation PR AUC\n"
     ]
    },
    {
     "name": "stderr",
     "output_type": "stream",
     "text": [
      "100%|██████████| 255/255 [02:09<00:00,  1.96it/s]\n",
      "100%|██████████| 255/255 [00:44<00:00,  5.69it/s]"
     ]
    },
    {
     "name": "stdout",
     "output_type": "stream",
     "text": [
      "Train F1-Score: 0.9979\n",
      "Valid F1-Score: 0.9787\n",
      "Epoch 5/5: Train Loss: 0.0018, Train PR AUC: 0.9999, Valid Loss: 0.0004, Valid PR AUC: 1.0000\n"
     ]
    },
    {
     "name": "stderr",
     "output_type": "stream",
     "text": [
      "\n"
     ]
    }
   ],
   "source": [
    "cur_model, best_model = train_model(model, 0, 1 , df)\n",
    "torch.save(best_model,'effnetb4.pth')"
   ]
  },
  {
   "cell_type": "code",
   "execution_count": null,
   "metadata": {},
   "outputs": [],
   "source": [
    "model_tuning = EfficientNetClassifier(model_version='b4', num_classes=1, dropout_rate=0.3)\n",
    "model_tuning.load_state_dict(torch.load('subset_tuning.pth',weights_only=True))\n",
    "\n",
    "cur_model, best_model = train_model(model, 0, 1 , df)\n",
    "torch.save(best_model,'subset_tuning.pth')\n"
   ]
  },
  {
   "cell_type": "markdown",
   "metadata": {},
   "source": [
    "This is a full scale of training data and validating data from 5 Fold( 4 for training 1 for validating)"
   ]
  },
  {
   "cell_type": "code",
   "execution_count": 9,
   "metadata": {},
   "outputs": [],
   "source": [
    "def predict(fold, true_labels=None):\n",
    "    test_df = pd.read_csv('data/test.csv')\n",
    "    im_path = 'data/test/'\n",
    "    batch_t = 32    \n",
    "    model_path = f'effnetb4.pth' \n",
    "    \n",
    "    test_im = test_df.image_name.values.tolist()\n",
    "    test_y = np.ones(len(test_im))  # Dummy labels since this is a test set\n",
    "    \n",
    "    # Define augmentation pipeline (if needed)\n",
    "    augmentation_pipeline = A.Compose([\n",
    "        A.Resize(height=384, width=384),\n",
    "        A.Normalize(mean=(0.485, 0.456, 0.406), std=(0.229, 0.224, 0.225)),\n",
    "        ToTensorV2()\n",
    "    ])\n",
    "\n",
    "    # Create DataLoader for the test dataset\n",
    "    test_dataset = Data_Loader(im_path, test_im, test_y, augmentation_pipeline)\n",
    "    test_loader = test_dataset.get(batch_size=batch_t, shuffle=False, num_workers=6)\n",
    "    \n",
    "    print(f'Number of batches in test_loader: {len(test_loader)}')\n",
    "    \n",
    "    device = 'cuda' if torch.cuda.is_available() else 'cpu'\n",
    "    \n",
    "    # Initialize the model and load weights\n",
    "    model.load_state_dict(torch.load(model_path, weights_only=True),strict=False)\n",
    "    model.to(device)\n",
    "    model.eval()\n",
    "    \n",
    "    preds = []\n",
    "    \n",
    "    # Iterate over batches in the DataLoader\n",
    "    with torch.no_grad():  # Disable gradient calculation for inference\n",
    "        for batch_idx, (test_data, _) in enumerate(test_loader):\n",
    "            test_data = test_data.to(device)  # Move data to GPU\n",
    "            \n",
    "            out = model(test_data)  # Forward pass through the model\n",
    "            \n",
    "            preds.append(out.cpu())  # Store logits on CPU\n",
    "            \n",
    "            if batch_idx % 50 == 0:\n",
    "                print(f'Processed batch {batch_idx}')\n",
    "    \n",
    "    pred_array = np.vstack(preds).ravel()  # Combine predictions into a single array\n",
    "\n",
    "    # Convert probabilities to binary predictions based on a threshold of 0.5\n",
    "    predicted_classes = (pred_array > 0.5).astype(int)\n",
    "\n",
    "    # Calculate F1 score if true labels are provided\n",
    "    if true_labels is not None:\n",
    "        f1 = f1_score(true_labels, predicted_classes)\n",
    "        print(f\"F1 Score: {f1:.4f}\")\n",
    "        return predicted_classes, f1\n",
    "\n",
    "    return predicted_classes"
   ]
  },
  {
   "cell_type": "code",
   "execution_count": 10,
   "metadata": {},
   "outputs": [
    {
     "name": "stdout",
     "output_type": "stream",
     "text": [
      "Number of batches in test_loader: 344\n",
      "Processed batch 0\n",
      "Processed batch 50\n",
      "Processed batch 100\n",
      "Processed batch 150\n",
      "Processed batch 200\n",
      "Processed batch 250\n",
      "Processed batch 300\n"
     ]
    }
   ],
   "source": [
    "from DataLoader import Data_Loader\n",
    "prediction = predict(2)\n",
    "submission = pd.read_csv('data/sample_submission.csv')\n",
    "submission.loc[:,'target'] = prediction\n",
    "submission.to_csv('submission.csv',index=False)\n"
   ]
  },
  {
   "cell_type": "code",
   "execution_count": null,
   "metadata": {},
   "outputs": [],
   "source": [
    "submission[submission['target']==1]\n",
    "submission.describe()\n"
   ]
  },
  {
   "cell_type": "code",
   "execution_count": 6,
   "metadata": {},
   "outputs": [],
   "source": [
    "import numpy as np\n",
    "import torch\n",
    "import matplotlib.pyplot as plt\n",
    "from sklearn.metrics import ConfusionMatrixDisplay, confusion_matrix, precision_score, recall_score, roc_auc_score, average_precision_score, f1_score\n",
    "\n",
    "def evaluate_model(model, valid_dataset, device):\n",
    "    model.eval()  \n",
    "    valid_predictions = []\n",
    "    valid_targets = []\n",
    "\n",
    "    with torch.no_grad():\n",
    "        for valid_data, valid_label in valid_dataset:\n",
    "            valid_data = valid_data.to(device)\n",
    "            out = model(valid_data)\n",
    "            out = torch.sigmoid(out)\n",
    "\n",
    "            valid_targets.append(valid_label.to(device))  \n",
    "            valid_predictions.append(out)\n",
    "\n",
    "    valid_predictions = torch.cat(valid_predictions).cpu()\n",
    "    valid_targets = torch.cat(valid_targets).cpu()\n",
    "\n",
    "    # Calculate ROC AUC\n",
    "    valid_auc_score = roc_auc_score(valid_targets.numpy(), valid_predictions.numpy())\n",
    "    print(f\"AUC: {valid_auc_score:.4f}\")\n",
    "\n",
    "    # Calculate Precision-Recall AUC (PR AUC)\n",
    "    valid_pr_auc_score = average_precision_score(valid_targets.numpy(), valid_predictions.numpy())\n",
    "    print(f\"PR AUC: {valid_pr_auc_score:.4f}\")\n",
    "\n",
    "    # Find best threshold based on Precision and Recall\n",
    "    thresholds = np.arange(0.4, 0.5, 0.1)  # Adjusted range to include 0.35\n",
    "    best_recall = best_precision = best_f1 = 0\n",
    "    best_threshold = 0\n",
    "\n",
    "    for threshold in thresholds:\n",
    "        predicted_classes = (valid_predictions > threshold).int()\n",
    "        precision = precision_score(valid_targets.numpy(), predicted_classes.numpy(), zero_division=0)\n",
    "        recall = recall_score(valid_targets.numpy(), predicted_classes.numpy(), zero_division=0)\n",
    "        f1 = f1_score(valid_targets, predicted_classes, zero_division=0)\n",
    "        if f1 > best_f1:\n",
    "            best_recall = recall\n",
    "            best_precision = precision\n",
    "            best_threshold = threshold\n",
    "            best_f1 = f1\n",
    "\n",
    "        print(f\"Threshold: {threshold:.4f}, Precision: {precision:.4f}, Recall: {recall:.4f}\")\n",
    "\n",
    "    print(f\"Best Precision: {best_precision:.4f}, Best Recall: {best_recall:.4f} at Threshold: {best_threshold:.4f}\", f\"Best F1: {best_f1:.4f}\")\n",
    "\n",
    "    from sklearn.metrics import precision_recall_curve\n",
    "\n",
    "    # Calculate Precision-Recall values for different thresholds for plotting\n",
    "    precisions, recalls, thresholds_pr = precision_recall_curve(valid_targets.numpy(), valid_predictions.numpy())\n",
    "\n",
    "    # Plot Precision-Recall trade-off curve\n",
    "    plt.figure(figsize=(8, 6))\n",
    "    plt.plot(thresholds_pr, precisions[:-1], label=\"Precision\", color='b')\n",
    "    plt.plot(thresholds_pr, recalls[:-1], label=\"Recall\", color='r')\n",
    "    plt.xlabel(\"Threshold\")\n",
    "    plt.ylabel(\"Score\")\n",
    "    plt.title(\"Precision-Recall Trade-off Curve\")\n",
    "    plt.legend(loc=\"best\")\n",
    "    plt.grid(True)\n",
    "    plt.show()\n",
    "\n",
    "\n",
    "    # Display Confusion Matrix at best threshold\n",
    "    final_predicted_classes = (valid_predictions > best_threshold).int()\n",
    "    cm = confusion_matrix(valid_targets.numpy(), final_predicted_classes.numpy())\n",
    "\n",
    "    disp = ConfusionMatrixDisplay(confusion_matrix=cm, display_labels=[0, 1])\n",
    "    disp.plot(cmap='Blues')\n",
    "    plt.title('Confusion Matrix')\n",
    "    plt.show()\n",
    "\n",
    "    return cm\n"
   ]
  },
  {
   "cell_type": "code",
   "execution_count": 19,
   "metadata": {},
   "outputs": [
    {
     "name": "stderr",
     "output_type": "stream",
     "text": [
      "C:\\Users\\Thanh\\AppData\\Local\\Temp\\ipykernel_23956\\1688006951.py:12: FutureWarning: You are using `torch.load` with `weights_only=False` (the current default value), which uses the default pickle module implicitly. It is possible to construct malicious pickle data which will execute arbitrary code during unpickling (See https://github.com/pytorch/pytorch/blob/main/SECURITY.md#untrusted-models for more details). In a future release, the default value for `weights_only` will be flipped to `True`. This limits the functions that could be executed during unpickling. Arbitrary objects will no longer be allowed to be loaded via this mode unless they are explicitly allowlisted by the user via `torch.serialization.add_safe_globals`. We recommend you start setting `weights_only=True` for any use case where you don't have full control of the loaded file. Please open an issue on GitHub for any issues related to this experimental feature.\n",
      "  model.load_state_dict(torch.load(model_path))\n"
     ]
    },
    {
     "name": "stdout",
     "output_type": "stream",
     "text": [
      "AUC: 1.0000\n",
      "PR AUC: 0.9981\n",
      "Threshold: 0.5000, Precision: 1.0000, Recall: 0.9730\n",
      "Best Precision: 1.0000, Best Recall: 0.9730 at Threshold: 0.5000 Best F1: 0.9863\n"
     ]
    },
    {
     "data": {
      "image/png": "[encoded data removed]",
      "text/plain": [
       "<Figure size 800x600 with 1 Axes>"
      ]
     },
     "metadata": {},
     "output_type": "display_data"
    },
    {
     "data": {
      "image/png": "[encoded data removed]",
      "text/plain": [
       "<Figure size 640x480 with 2 Axes>"
      ]
     },
     "metadata": {},
     "output_type": "display_data"
    },
    {
     "name": "stdout",
     "output_type": "stream",
     "text": [
      "Confusion Matrix:\n",
      "[[6514    0]\n",
      " [   3  108]]\n"
     ]
    }
   ],
   "source": [
    "from albumentations.pytorch import ToTensorV2\n",
    "import albumentations as A\n",
    "import torch\n",
    "import pandas as pd\n",
    "\n",
    "# Assuming evaluate_model and Data_Loader are defined properly\n",
    "if __name__ == \"__main__\":\n",
    "    fold_number = 4\n",
    "    \n",
    "    # Load your trained model\n",
    "    model_path = \"effnetb4.pth\"\n",
    "    model.load_state_dict(torch.load(model_path))\n",
    "    \n",
    "    device = 'cuda' if torch.cuda.is_available() else 'cpu'\n",
    "    model.to(device)\n",
    "\n",
    "    # Create validation dataset for generating the confusion matrix\n",
    "    image_path = 'data/train'\n",
    "    valid_df = df[df.kfold == fold_number].reset_index(drop=True)\n",
    "    \n",
    "    valid_im = valid_df.image_name.values.tolist()\n",
    "    valid_y = valid_df.target.values\n",
    "    \n",
    "    \n",
    "\n",
    "    # Validation transformations\n",
    "    valid_transpose = A.Compose([\n",
    "        A.Normalize(mean=(0.485, 0.456, 0.406), std=(0.229, 0.224, 0.225), max_pixel_value=255.0, always_apply=True),\n",
    "        ToTensorV2()\n",
    "    ])\n",
    "    \n",
    "    # Loading validation dataset\n",
    "    valid_dataset = Data_Loader(image_path, valid_im, valid_y, valid_transpose).get(batch_size=32, shuffle=False, num_workers=6)\n",
    "\n",
    "    # Generate and print confusion matrix and metrics\n",
    "    cm = evaluate_model(model, valid_dataset, device)\n"
   ]
  },
  {
   "cell_type": "markdown",
   "metadata": {},
   "source": [
    "This is testing with ISSIC 2019 images to verify the accuracy of the model"
   ]
  },
  {
   "cell_type": "code",
   "execution_count": 14,
   "metadata": {},
   "outputs": [
    {
     "name": "stderr",
     "output_type": "stream",
     "text": [
      "C:\\Users\\Thanh\\AppData\\Local\\Temp\\ipykernel_13988\\2007689959.py:9: FutureWarning: You are using `torch.load` with `weights_only=False` (the current default value), which uses the default pickle module implicitly. It is possible to construct malicious pickle data which will execute arbitrary code during unpickling (See https://github.com/pytorch/pytorch/blob/main/SECURITY.md#untrusted-models for more details). In a future release, the default value for `weights_only` will be flipped to `True`. This limits the functions that could be executed during unpickling. Arbitrary objects will no longer be allowed to be loaded via this mode unless they are explicitly allowlisted by the user via `torch.serialization.add_safe_globals`. We recommend you start setting `weights_only=True` for any use case where you don't have full control of the loaded file. Please open an issue on GitHub for any issues related to this experimental feature.\n",
      "  model.load_state_dict(torch.load(model_path))\n"
     ]
    },
    {
     "name": "stdout",
     "output_type": "stream",
     "text": [
      "Number of overlapping images: 0\n",
      "AUC: 0.9997\n",
      "PR AUC: 0.9997\n",
      "Threshold: 0.4000, Precision: 0.9996, Recall: 0.9684\n",
      "Best Precision: 0.9996, Best Recall: 0.9684 at Threshold: 0.4000 Best F1: 0.9837\n"
     ]
    },
    {
     "data": {
      "image/png": "[encoded data removed]",
      "text/plain": [
       "<Figure size 800x600 with 1 Axes>"
      ]
     },
     "metadata": {},
     "output_type": "display_data"
    },
    {
     "data": {
      "image/png": "[encoded data removed]",
      "text/plain": [
       "<Figure size 640x480 with 2 Axes>"
      ]
     },
     "metadata": {},
     "output_type": "display_data"
    }
   ],
   "source": [
    "import torch\n",
    "import pandas as pd\n",
    "import numpy as np\n",
    "import albumentations as A\n",
    "from albumentations.pytorch import ToTensorV2\n",
    "import hashlib\n",
    "\n",
    "model_path = \"effnetb4.pth\"\n",
    "model.load_state_dict(torch.load(model_path))\n",
    "    \n",
    "device = 'cuda' if torch.cuda.is_available() else 'cpu'\n",
    "model.to(device)\n",
    "\n",
    "# Load the train dataset (ISIC 2020) and test dataset (ISIC 2019)\n",
    "df_train = pd.read_csv('data/train.csv')\n",
    "df_test = pd.read_csv('data/test_ISIC_2019/ISIC_2019_Training_GroundTruth.csv')\n",
    "\n",
    "# Rename and drop unnecessary columns in the test dataset\n",
    "df_test.rename(columns={\"MEL\": 'target'}, inplace=True)\n",
    "df_test.drop(columns=['NV', 'BCC', 'AK', 'BKL', 'DF', 'VASC', 'SCC', 'UNK'], inplace=True)\n",
    "\n",
    "# Identify and remove overlapping images\n",
    "# Assuming image filenames are in the 'image_name' column\n",
    "common_images = set(df_train['image_name']).intersection(set(df_test['image']))\n",
    "print(f\"Number of overlapping images: {len(common_images)}\")\n",
    "df_test_filtered = df_test[~df_test['image'].isin(common_images)]\n",
    "\n",
    "# Determine the number of samples to take\n",
    "total_samples = 5000\n",
    "positive_samples = 2500  # Number of samples with target = 1 (adjust as needed)\n",
    "negative_samples = total_samples - positive_samples\n",
    "\n",
    "# Sample positive and negative cases\n",
    "df_positive = df_test_filtered[df_test_filtered['target'] == 1].sample(n=positive_samples, random_state=90)\n",
    "df_negative = df_test_filtered[df_test_filtered['target'] == 0].sample(n=negative_samples, random_state=3)\n",
    "\n",
    "# Combine the sampled DataFrames\n",
    "df_sampled = pd.concat([df_positive, df_negative]).sample(frac=1, random_state=42).reset_index(drop=True)  # Shuffle\n",
    "\n",
    "# Prepare image and target lists\n",
    "test_im = df_sampled.image.values.tolist()\n",
    "test_target = df_sampled.target.values.tolist()\n",
    "\n",
    "# Define validation transformations\n",
    "valid_transpose = A.Compose([\n",
    "    A.Normalize(mean=(0.485, 0.456, 0.406), std=(0.229, 0.224, 0.225), max_pixel_value=255.0, always_apply=True),\n",
    "    ToTensorV2()\n",
    "])\n",
    "\n",
    "# Loading validation dataset\n",
    "test_dataset = Data_Loader('data/test_ISIC_2019/ISIC_2019_Training_Input/ISIC_2019_Training_Input', test_im, test_target, valid_transpose).get(batch_size=32, shuffle=False, num_workers=6)\n",
    "\n",
    "# Generate and print confusion matrix and metrics\n",
    "cm = evaluate_model(model, test_dataset, device)"
   ]
  }
 ],
 "metadata": {
  "kernelspec": {
   "display_name": ".venv",
   "language": "python",
   "name": "python3"
  },
  "language_info": {
   "codemirror_mode": {
    "name": "ipython",
    "version": 3
   },
   "file_extension": ".py",
   "mimetype": "text/x-python",
   "name": "python",
   "nbconvert_exporter": "python",
   "pygments_lexer": "ipython3",
   "version": "3.10.5"
  }
 },
 "nbformat": 4,
 "nbformat_minor": 2
}
