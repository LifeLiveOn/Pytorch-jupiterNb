{
  "nbformat": 4,
  "nbformat_minor": 0,
  "metadata": {
    "colab": {
      "provenance": [],
      "authorship_tag": "ABX9TyNE7wYomGX/BzejzG5VQ5AV",
      "include_colab_link": true
    },
    "kernelspec": {
      "name": "python3",
      "display_name": "Python 3"
    },
    "language_info": {
      "name": "python"
    }
  },
  "cells": [
    {
      "cell_type": "markdown",
      "metadata": {
        "id": "view-in-github",
        "colab_type": "text"
      },
      "source": [
        "<a href=\"https://colab.research.google.com/github/LifeLiveOn/Pytorch-jupiterNb/blob/main/Dataset%2C_transformer.ipynb\" target=\"_parent\"><img src=\"https://colab.research.google.com/assets/colab-badge.svg\" alt=\"Open In Colab\"/></a>"
      ]
    },
    {
      "cell_type": "code",
      "execution_count": 1,
      "metadata": {
        "colab": {
          "base_uri": "https://localhost:8080/"
        },
        "id": "2DP3G5JyHDnX",
        "outputId": "072af595-519b-4c24-a8a1-6cd19cb0b986"
      },
      "outputs": [
        {
          "output_type": "execute_result",
          "data": {
            "text/plain": [
              "<torch._C.Generator at 0x7f86a8390cb0>"
            ]
          },
          "metadata": {},
          "execution_count": 1
        }
      ],
      "source": [
        "# These are the libraries will be used for this lab.\n",
        "\n",
        "import torch\n",
        "from torch.utils.data import Dataset\n",
        "torch.manual_seed(1) #fix seed for generating random numbers\n"
      ]
    },
    {
      "cell_type": "code",
      "source": [
        "#Create a custom dataset , lets name it toy_set\n",
        "\n",
        "class toy_set(Dataset):\n",
        "\n",
        "    # Constructor with defult values\n",
        "    def __init__(self, length = 100, transform = None):\n",
        "        self.len = length\n",
        "        self.x = 2 * torch.ones(length, 2)\n",
        "        self.y = torch.ones(length, 1)\n",
        "        self.transform = transform\n",
        "\n",
        "    # Getter\n",
        "    def __getitem__(self, index):\n",
        "        sample = self.x[index], self.y[index]\n",
        "        if self.transform:\n",
        "            sample = self.transform(sample)\n",
        "        return sample\n",
        "\n",
        "    # Get Length\n",
        "    def __len__(self):\n",
        "        return self.len"
      ],
      "metadata": {
        "id": "ry7hq8kiH-F7"
      },
      "execution_count": 7,
      "outputs": []
    },
    {
      "cell_type": "markdown",
      "source": [
        "**Create our toy_set object and play around it**"
      ],
      "metadata": {
        "id": "vYxUS7MLIxgg"
      }
    },
    {
      "cell_type": "code",
      "source": [
        "our_data_set = toy_set()\n",
        "print(our_data_set[0])\n",
        "print(our_data_set)\n",
        "print(len(our_data_set))\n",
        "\n",
        "#let do a quick for loop to print the first 3\n",
        "for i in range(3):\n",
        "  x,y = our_data_set[i]\n",
        "  print('X: ',x, 'Y: ', y)\n",
        "\n",
        "#print half\n",
        "for x,y in our_data_set:\n",
        "  print('X: ',x, 'Y: ', y)\n",
        "#don't suppose slicing because its not a tensor, it just a custom object representing"
      ],
      "metadata": {
        "id": "qDKupaWsI1Qm"
      },
      "execution_count": null,
      "outputs": []
    },
    {
      "cell_type": "markdown",
      "source": [
        "**Transformer **"
      ],
      "metadata": {
        "id": "BAXqZy7INVpf"
      }
    },
    {
      "cell_type": "code",
      "source": [
        "#make a function that modify our dataset values, this is what we call transformer\n",
        "\n",
        "class add_mult(object):\n",
        "  def __init__(self, add_x=1,mul_y=1):\n",
        "    self.add_x=add_x\n",
        "    self.mul_y=mul_y\n",
        "\n",
        "  def __call__(self, sample):\n",
        "    x = sample[0]\n",
        "    y = sample[1]\n",
        "    x = x + self.add_x\n",
        "    y = y * self.mul_y\n",
        "    sample = x,y\n",
        "    return sample\n",
        ""
      ],
      "metadata": {
        "id": "O974UMz1NYDF"
      },
      "execution_count": 16,
      "outputs": []
    },
    {
      "cell_type": "code",
      "source": [
        "#create the transform object\n",
        "a_m = add_mult(add_x=2,mul_y=3)\n",
        "data_set = toy_set(length=10)\n",
        "\n",
        "for i in range(10):\n",
        "  x, y = data_set[i]\n",
        "  print('Index: ', i, 'Original x: ', x, 'Original y: ', y)\n",
        "  x_, y_ = a_m(data_set[i])\n",
        "  print('Index: ', i, 'Transformed x_:', x_, 'Transformed y_:', y_)"
      ],
      "metadata": {
        "colab": {
          "base_uri": "https://localhost:8080/"
        },
        "id": "clj4TXnON6zj",
        "outputId": "3d9c30b4-6747-4a94-c4c6-a0ad88cc84ce"
      },
      "execution_count": 17,
      "outputs": [
        {
          "output_type": "stream",
          "name": "stdout",
          "text": [
            "Index:  0 Original x:  tensor([2., 2.]) Original y:  tensor([1.])\n",
            "Index:  0 Transformed x_: tensor([4., 4.]) Transformed y_: tensor([3.])\n",
            "Index:  1 Original x:  tensor([2., 2.]) Original y:  tensor([1.])\n",
            "Index:  1 Transformed x_: tensor([4., 4.]) Transformed y_: tensor([3.])\n",
            "Index:  2 Original x:  tensor([2., 2.]) Original y:  tensor([1.])\n",
            "Index:  2 Transformed x_: tensor([4., 4.]) Transformed y_: tensor([3.])\n",
            "Index:  3 Original x:  tensor([2., 2.]) Original y:  tensor([1.])\n",
            "Index:  3 Transformed x_: tensor([4., 4.]) Transformed y_: tensor([3.])\n",
            "Index:  4 Original x:  tensor([2., 2.]) Original y:  tensor([1.])\n",
            "Index:  4 Transformed x_: tensor([4., 4.]) Transformed y_: tensor([3.])\n",
            "Index:  5 Original x:  tensor([2., 2.]) Original y:  tensor([1.])\n",
            "Index:  5 Transformed x_: tensor([4., 4.]) Transformed y_: tensor([3.])\n",
            "Index:  6 Original x:  tensor([2., 2.]) Original y:  tensor([1.])\n",
            "Index:  6 Transformed x_: tensor([4., 4.]) Transformed y_: tensor([3.])\n",
            "Index:  7 Original x:  tensor([2., 2.]) Original y:  tensor([1.])\n",
            "Index:  7 Transformed x_: tensor([4., 4.]) Transformed y_: tensor([3.])\n",
            "Index:  8 Original x:  tensor([2., 2.]) Original y:  tensor([1.])\n",
            "Index:  8 Transformed x_: tensor([4., 4.]) Transformed y_: tensor([3.])\n",
            "Index:  9 Original x:  tensor([2., 2.]) Original y:  tensor([1.])\n",
            "Index:  9 Transformed x_: tensor([4., 4.]) Transformed y_: tensor([3.])\n"
          ]
        }
      ]
    },
    {
      "cell_type": "markdown",
      "source": [],
      "metadata": {
        "id": "r6aHEfh3OVc4"
      }
    },
    {
      "cell_type": "code",
      "source": [
        "#we can also apply the transform functon when we create our data_set\n",
        "trans_data_set = toy_set(transform=a_m)\n"
      ],
      "metadata": {
        "id": "ykvjwaOnOZWI"
      },
      "execution_count": 18,
      "outputs": []
    },
    {
      "cell_type": "markdown",
      "source": [
        "**Torch vision**"
      ],
      "metadata": {
        "id": "x7F1ZXZlOhsW"
      }
    },
    {
      "cell_type": "code",
      "source": [
        "#compose multiple transform for dataset\n",
        "from torchvision import transforms\n",
        "class mul(object):\n",
        "  def __init__(self, mult=5):\n",
        "    self.mult=mult\n",
        "\n",
        "  def __call__(self, sample):\n",
        "    x, y = sample[0], sample[1]\n",
        "    x = x * self.mul\n",
        "    y = y * self.mul\n",
        "    sample  = x, y\n",
        "    return sample\n",
        "\n",
        "transformer = transforms.Compose(\n",
        "    [\n",
        "        add_mult(),\n",
        "        mul()\n",
        "    ])\n",
        "\n",
        "compose_data_set = toy_set(transform=transformer)\n"
      ],
      "metadata": {
        "id": "3GZ8WghrOjcb"
      },
      "execution_count": 22,
      "outputs": []
    }
  ]
}