{
  "nbformat": 4,
  "nbformat_minor": 0,
  "metadata": {
    "colab": {
      "provenance": [],
      "authorship_tag": "ABX9TyPqFEo2mdHYJH/xJrsvvbJL",
      "include_colab_link": true
    },
    "kernelspec": {
      "name": "python3",
      "display_name": "Python 3"
    },
    "language_info": {
      "name": "python"
    }
  },
  "cells": [
    {
      "cell_type": "markdown",
      "metadata": {
        "id": "view-in-github",
        "colab_type": "text"
      },
      "source": [
        "<a href=\"https://colab.research.google.com/github/LifeLiveOn/Pytorch-jupiterNb/blob/main/derivative%2C_partial_derivatives.ipynb\" target=\"_parent\"><img src=\"https://colab.research.google.com/assets/colab-badge.svg\" alt=\"Open In Colab\"/></a>"
      ]
    },
    {
      "cell_type": "code",
      "execution_count": 1,
      "metadata": {
        "id": "xml1ntzA8FYN"
      },
      "outputs": [],
      "source": [
        "# These are the libraries will be useing for this lab.\n",
        "\n",
        "import torch\n",
        "import matplotlib.pylab as plt\n"
      ]
    },
    {
      "cell_type": "code",
      "source": [
        "# Create a tensor x\n",
        "\n",
        "x = torch.tensor(2.0, requires_grad = True)\n",
        "print(\"The tensor x: \", x)\n",
        "\n",
        "# Create a tensor y according to y = x^2\n",
        "\n",
        "y = x ** 2\n",
        "print(\"The result of y = x^2: \", y)\n",
        "\n",
        "# Take the derivative. Try to print out the derivative at the value x = 2\n",
        "\n",
        "y.backward()\n",
        "print(\"The dervative at x = 2: \", x.grad)\n",
        "print('data:',x.data)\n",
        "print('grad_fn:',x.grad_fn)\n",
        "print('grad:',x.grad)\n",
        "print(\"is_leaf:\",x.is_leaf)\n",
        "print(\"requires_grad:\",x.requires_grad)"
      ],
      "metadata": {
        "colab": {
          "base_uri": "https://localhost:8080/"
        },
        "id": "zmIOHMAl8M6D",
        "outputId": "d526f5c1-8aef-44e2-c683-fd06d0dde01e"
      },
      "execution_count": 4,
      "outputs": [
        {
          "output_type": "stream",
          "name": "stdout",
          "text": [
            "The tensor x:  tensor(2., requires_grad=True)\n",
            "The result of y = x^2:  tensor(4., grad_fn=<PowBackward0>)\n",
            "The dervative at x = 2:  tensor(4.)\n",
            "data: tensor(2.)\n",
            "grad_fn: None\n",
            "grad: tensor(4.)\n",
            "is_leaf: True\n",
            "requires_grad: True\n"
          ]
        }
      ]
    },
    {
      "cell_type": "code",
      "source": [
        "print('data:',y.data)\n",
        "print('grad_fn:',y.grad_fn)\n",
        "print('grad:',y.grad)\n",
        "print(\"is_leaf:\",y.is_leaf)\n",
        "print(\"requires_grad:\",y.requires_grad)"
      ],
      "metadata": {
        "colab": {
          "base_uri": "https://localhost:8080/"
        },
        "id": "_Nz6m-ZK8bl_",
        "outputId": "c4090512-94b0-46e6-e54e-d90fa1155e33"
      },
      "execution_count": 5,
      "outputs": [
        {
          "output_type": "stream",
          "name": "stdout",
          "text": [
            "data: tensor(4.)\n",
            "grad_fn: <PowBackward0 object at 0x7a651761c460>\n",
            "grad: None\n",
            "is_leaf: False\n",
            "requires_grad: True\n"
          ]
        },
        {
          "output_type": "stream",
          "name": "stderr",
          "text": [
            "<ipython-input-5-3853135f74d0>:3: UserWarning: The .grad attribute of a Tensor that is not a leaf Tensor is being accessed. Its .grad attribute won't be populated during autograd.backward(). If you indeed want the .grad field to be populated for a non-leaf Tensor, use .retain_grad() on the non-leaf Tensor. If you access the non-leaf Tensor by mistake, make sure you access the leaf Tensor instead. See github.com/pytorch/pytorch/pull/30531 for more informations. (Triggered internally at aten/src/ATen/core/TensorBody.h:489.)\n",
            "  print('grad:',y.grad)\n"
          ]
        }
      ]
    },
    {
      "cell_type": "code",
      "source": [
        "# Calculate the y = x^2 + 2x + 1, then find the derivative\n",
        "# at x = 2\n",
        "x = torch.tensor(2.0,requires_grad=True)\n",
        "y = x**2 + 2*x + 1\n",
        "y.backward()\n",
        "print(\"y'(2) is : \",x.grad )\n",
        "print(\"y(2) is\", y.data)"
      ],
      "metadata": {
        "colab": {
          "base_uri": "https://localhost:8080/"
        },
        "id": "JizQLn698nu0",
        "outputId": "9c341d2e-46e6-42c5-e39b-0c0782d49bf0"
      },
      "execution_count": 8,
      "outputs": [
        {
          "output_type": "stream",
          "name": "stdout",
          "text": [
            "y'(2) is :  tensor(6.)\n",
            "y(2) is tensor(9.)\n"
          ]
        }
      ]
    },
    {
      "cell_type": "markdown",
      "source": [
        "**Partial **"
      ],
      "metadata": {
        "id": "C_t4Wz8_-M13"
      }
    },
    {
      "cell_type": "code",
      "source": [
        "# Calculate f(u, v) = v * u + u^2 at u = 1, v = 2\n",
        "\n",
        "u = torch.tensor(1.0,requires_grad=True)\n",
        "v = torch.tensor(2.0,requires_grad=True)\n",
        "f = u * v + u ** 2\n",
        "print(\"The result of v * u + u^2: \", f.data)\n",
        "# Calculate the derivative with respect to u\n",
        "\n",
        "f.backward()\n",
        "print(\"The partial derivative with respect to u: \", u.grad)\n",
        "# Calculate the derivative with respect to v\n",
        "\n",
        "print(\"The partial derivative with respect to u: \", v.grad)"
      ],
      "metadata": {
        "colab": {
          "base_uri": "https://localhost:8080/"
        },
        "id": "WU_GrYKV-OZR",
        "outputId": "00c0abb7-983e-4113-ae7c-6d833c1d6847"
      },
      "execution_count": 12,
      "outputs": [
        {
          "output_type": "stream",
          "name": "stdout",
          "text": [
            "The result of v * u + u^2:  tensor(3.)\n",
            "The partial derivative with respect to u:  tensor(4.)\n",
            "The partial derivative with respect to u:  tensor(1.)\n"
          ]
        }
      ]
    },
    {
      "cell_type": "markdown",
      "source": [
        " `torch.sum()` is used here to create a single scalar value that represents the sum of squared elements of x, which is a common pattern in creating loss functions or other aggregated metrics in PyTorch.\n",
        "\n",
        " By using `sum()`, we simplify the backward pass, ensure proper gradient flow, and make it easier to compute gradients for complex computations involving multi-dimensional tensors.\n",
        "\n",
        " y = torch.sum(x**2) creates a scalar output.\n",
        "y.backward() computes gradients of y with respect to x.\n",
        "\n",
        "The gradient of each element in x is 2 times its value, due to the chain rule application through sum().\n",
        "\n",
        "Without sum():\n",
        "\n",
        "\n",
        "*   If we didn't use sum(), we'd have a tensor output instead of a scalar.\n",
        "*   Initiating backpropagation on a non-scalar tensor requires specifying a gradient tensor of the same shape.\n",
        "\n",
        "\n"
      ],
      "metadata": {
        "id": "dPb_IeHL_9Gy"
      }
    },
    {
      "cell_type": "markdown",
      "source": [
        "**Multiple values**\n"
      ],
      "metadata": {
        "id": "wbhuu0xf-gq9"
      }
    },
    {
      "cell_type": "code",
      "source": [
        "# Calculate the derivative with multiple values\n",
        "\n",
        "x = torch.linspace(-10, 10, 10, requires_grad = True)\n",
        "Y = x ** 2\n",
        "y = torch.sum(x ** 2)\n",
        "\n",
        "# Take the derivative with respect to multiple value. Plot out the function and its derivative\n",
        "\n",
        "# y.backward()\n",
        "\n",
        "# plt.plot(x.detach().numpy(), Y.detach().numpy(), label = 'function')\n",
        "# plt.plot(x.detach().numpy(), x.grad.detach().numpy(), label = 'derivative')\n",
        "# plt.xlabel('x')\n",
        "# plt.legend()\n",
        "# plt.show()\n",
        "\n",
        "y.backward()\n",
        "\n",
        "plt.plot(x.numpy(), Y.numpy(), label = 'function')\n",
        "plt.plot(x.numpy(), x.grad.numpy(), label = 'derivative')\n",
        "plt.xlabel('x')\n",
        "plt.legend()\n",
        "plt.show()"
      ],
      "metadata": {
        "colab": {
          "base_uri": "https://localhost:8080/",
          "height": 220
        },
        "id": "25Llr8IP-jXw",
        "outputId": "7b22bcb5-c225-489c-994a-e3e127d1eb4e"
      },
      "execution_count": 16,
      "outputs": [
        {
          "output_type": "error",
          "ename": "RuntimeError",
          "evalue": "Can't call numpy() on Tensor that requires grad. Use tensor.detach().numpy() instead.",
          "traceback": [
            "\u001b[0;31m---------------------------------------------------------------------------\u001b[0m",
            "\u001b[0;31mRuntimeError\u001b[0m                              Traceback (most recent call last)",
            "\u001b[0;32m<ipython-input-16-2f1f36e9dd1e>\u001b[0m in \u001b[0;36m<cell line: 19>\u001b[0;34m()\u001b[0m\n\u001b[1;32m     17\u001b[0m \u001b[0my\u001b[0m\u001b[0;34m.\u001b[0m\u001b[0mbackward\u001b[0m\u001b[0;34m(\u001b[0m\u001b[0;34m)\u001b[0m\u001b[0;34m\u001b[0m\u001b[0;34m\u001b[0m\u001b[0m\n\u001b[1;32m     18\u001b[0m \u001b[0;34m\u001b[0m\u001b[0m\n\u001b[0;32m---> 19\u001b[0;31m \u001b[0mplt\u001b[0m\u001b[0;34m.\u001b[0m\u001b[0mplot\u001b[0m\u001b[0;34m(\u001b[0m\u001b[0mx\u001b[0m\u001b[0;34m.\u001b[0m\u001b[0mnumpy\u001b[0m\u001b[0;34m(\u001b[0m\u001b[0;34m)\u001b[0m\u001b[0;34m,\u001b[0m \u001b[0mY\u001b[0m\u001b[0;34m.\u001b[0m\u001b[0mnumpy\u001b[0m\u001b[0;34m(\u001b[0m\u001b[0;34m)\u001b[0m\u001b[0;34m,\u001b[0m \u001b[0mlabel\u001b[0m \u001b[0;34m=\u001b[0m \u001b[0;34m'function'\u001b[0m\u001b[0;34m)\u001b[0m\u001b[0;34m\u001b[0m\u001b[0;34m\u001b[0m\u001b[0m\n\u001b[0m\u001b[1;32m     20\u001b[0m \u001b[0mplt\u001b[0m\u001b[0;34m.\u001b[0m\u001b[0mplot\u001b[0m\u001b[0;34m(\u001b[0m\u001b[0mx\u001b[0m\u001b[0;34m.\u001b[0m\u001b[0mnumpy\u001b[0m\u001b[0;34m(\u001b[0m\u001b[0;34m)\u001b[0m\u001b[0;34m,\u001b[0m \u001b[0mx\u001b[0m\u001b[0;34m.\u001b[0m\u001b[0mgrad\u001b[0m\u001b[0;34m.\u001b[0m\u001b[0mnumpy\u001b[0m\u001b[0;34m(\u001b[0m\u001b[0;34m)\u001b[0m\u001b[0;34m,\u001b[0m \u001b[0mlabel\u001b[0m \u001b[0;34m=\u001b[0m \u001b[0;34m'derivative'\u001b[0m\u001b[0;34m)\u001b[0m\u001b[0;34m\u001b[0m\u001b[0;34m\u001b[0m\u001b[0m\n\u001b[1;32m     21\u001b[0m \u001b[0mplt\u001b[0m\u001b[0;34m.\u001b[0m\u001b[0mxlabel\u001b[0m\u001b[0;34m(\u001b[0m\u001b[0;34m'x'\u001b[0m\u001b[0;34m)\u001b[0m\u001b[0;34m\u001b[0m\u001b[0;34m\u001b[0m\u001b[0m\n",
            "\u001b[0;31mRuntimeError\u001b[0m: Can't call numpy() on Tensor that requires grad. Use tensor.detach().numpy() instead."
          ]
        }
      ]
    },
    {
      "cell_type": "markdown",
      "source": [
        "The method  `detach()` excludes further tracking of operations in the graph, and therefore the subgraph will not record operations. This allows us to then convert the tensor to a numpy array."
      ],
      "metadata": {
        "id": "ExJJ6emm-4zG"
      }
    },
    {
      "cell_type": "code",
      "source": [
        "# Take the derivative of Relu with respect to multiple value. Plot out the function and its derivative\n",
        "\n",
        "x = torch.linspace(-10, 10, 1000, requires_grad = True)\n",
        "Y = torch.relu(x)\n",
        "y = Y.sum()\n",
        "y.backward()\n",
        "plt.plot(x.detach().numpy(), Y.detach().numpy(), label = 'function')\n",
        "plt.plot(x.detach().numpy(), x.grad.detach().numpy(), label = 'derivative')\n",
        "plt.xlabel('x')\n",
        "plt.legend()\n",
        "plt.show()\n",
        "\n",
        "y.grad_fn"
      ],
      "metadata": {
        "colab": {
          "base_uri": "https://localhost:8080/",
          "height": 467
        },
        "id": "VrY7Ty5m-7OA",
        "outputId": "268bbdff-b176-49ed-8809-92cab7f71352"
      },
      "execution_count": 15,
      "outputs": [
        {
          "output_type": "display_data",
          "data": {
            "text/plain": [
              "<Figure size 640x480 with 1 Axes>"
            ],
            "image/png": "[encoded data removed]"
          },
          "metadata": {}
        },
        {
          "output_type": "execute_result",
          "data": {
            "text/plain": [
              "<SumBackward0 at 0x7a645f7b3940>"
            ]
          },
          "metadata": {},
          "execution_count": 15
        }
      ]
    }
  ]
}