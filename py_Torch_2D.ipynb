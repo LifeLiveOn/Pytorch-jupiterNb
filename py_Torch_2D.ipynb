{
  "nbformat": 4,
  "nbformat_minor": 0,
  "metadata": {
    "colab": {
      "provenance": [],
      "toc_visible": true,
      "authorship_tag": "ABX9TyPxYTiuRj+oWx/QLY7Y3P8e",
      "include_colab_link": true
    },
    "kernelspec": {
      "name": "python3",
      "display_name": "Python 3"
    },
    "language_info": {
      "name": "python"
    }
  },
  "cells": [
    {
      "cell_type": "markdown",
      "metadata": {
        "id": "view-in-github",
        "colab_type": "text"
      },
      "source": [
        "<a href=\"https://colab.research.google.com/github/LifeLiveOn/Pytorch-jupiterNb/blob/main/py_Torch_2D.ipynb\" target=\"_parent\"><img src=\"https://colab.research.google.com/assets/colab-badge.svg\" alt=\"Open In Colab\"/></a>"
      ]
    },
    {
      "cell_type": "markdown",
      "source": [
        "# Pytorch 2D practice"
      ],
      "metadata": {
        "id": "mAF22Z3pv2j3"
      }
    },
    {
      "cell_type": "code",
      "source": [
        "import numpy as np\n",
        "import matplotlib.pyplot as plt\n",
        "import torch\n",
        "import pandas as pd"
      ],
      "metadata": {
        "id": "RdfZOaIXv6e5"
      },
      "execution_count": 2,
      "outputs": []
    },
    {
      "cell_type": "code",
      "source": [
        "twoD = [[11, 12, 13], [21, 22, 23], [31, 32, 33]]\n",
        "twoD_tensor = torch.tensor(twoD)\n",
        "print(twoD_tensor)"
      ],
      "metadata": {
        "colab": {
          "base_uri": "https://localhost:8080/"
        },
        "id": "P71DuBfh2l0b",
        "outputId": "c8c78875-9c0b-4bfe-d3a7-47d9474d858b"
      },
      "execution_count": 3,
      "outputs": [
        {
          "output_type": "stream",
          "name": "stdout",
          "text": [
            "tensor([[11, 12, 13],\n",
            "        [21, 22, 23],\n",
            "        [31, 32, 33]])\n"
          ]
        }
      ]
    },
    {
      "cell_type": "code",
      "source": [
        "# Try tensor_obj.ndimension(), tensor_obj.shape, tensor_obj.size()\n",
        "\n",
        "print(\"The dimension of twoD_tensor: \", twoD_tensor.ndimension())\n",
        "print(\"The shape of twoD_tensor: \", twoD_tensor.shape)\n",
        "print(\"The shape of twoD_tensor: \", twoD_tensor.size())\n",
        "print(\"The number of elements in twoD_tensor: \", twoD_tensor.numel())"
      ],
      "metadata": {
        "colab": {
          "base_uri": "https://localhost:8080/"
        },
        "id": "EztthbKi2t4X",
        "outputId": "3bcc0de4-0a18-476e-c63c-fcf7c3cb0080"
      },
      "execution_count": 4,
      "outputs": [
        {
          "output_type": "stream",
          "name": "stdout",
          "text": [
            "The dimension of twoD_tensor:  2\n",
            "The shape of twoD_tensor:  torch.Size([3, 3])\n",
            "The shape of twoD_tensor:  torch.Size([3, 3])\n",
            "The number of elements in twoD_tensor:  9\n"
          ]
        }
      ]
    },
    {
      "cell_type": "code",
      "source": [
        "# Convert tensor to numpy array; Convert numpy array to tensor\n",
        "\n",
        "twoD_numpy = twoD_tensor.numpy()\n",
        "print(twoD_numpy)\n",
        "new_2D_tensor = torch.tensor(twoD_numpy)\n",
        "print(new_2D_tensor)"
      ],
      "metadata": {
        "colab": {
          "base_uri": "https://localhost:8080/"
        },
        "id": "qdFsEnAv2zIE",
        "outputId": "6898af92-fb31-4912-ccd0-44525d9d1462"
      },
      "execution_count": 6,
      "outputs": [
        {
          "output_type": "stream",
          "name": "stdout",
          "text": [
            "[[11 12 13]\n",
            " [21 22 23]\n",
            " [31 32 33]]\n",
            "tensor([[11, 12, 13],\n",
            "        [21, 22, 23],\n",
            "        [31, 32, 33]])\n"
          ]
        }
      ]
    },
    {
      "cell_type": "code",
      "source": [
        "# Try to convert the Panda Dataframe to tensor\n",
        "df = pd.DataFrame({'a':[11,21,31],'b':[12,22,312]})\n",
        "\n",
        "print(df.values)\n",
        "print(df.values.dtype)\n",
        "new_tensor = torch.tensor(df.values)\n",
        "print(new_tensor)\n",
        "print(new_tensor.dtype)"
      ],
      "metadata": {
        "colab": {
          "base_uri": "https://localhost:8080/"
        },
        "id": "K_krzEUV3Mzi",
        "outputId": "d73bd37a-f2fb-49c6-c616-3340a2814727"
      },
      "execution_count": 9,
      "outputs": [
        {
          "output_type": "stream",
          "name": "stdout",
          "text": [
            "[[ 11  12]\n",
            " [ 21  22]\n",
            " [ 31 312]]\n",
            "int64\n",
            "tensor([[ 11,  12],\n",
            "        [ 21,  22],\n",
            "        [ 31, 312]])\n",
            "torch.int64\n"
          ]
        }
      ]
    },
    {
      "cell_type": "markdown",
      "source": [
        "**Index and slicing**"
      ],
      "metadata": {
        "id": "brDdMO3o3sLM"
      }
    },
    {
      "cell_type": "code",
      "source": [
        "# Use tensor_obj[row, column] and tensor_obj[row][column] to access certain position\n",
        "\n",
        "tensor_example = torch.tensor([[11, 12, 13], [21, 22, 23], [31, 32, 33]])\n",
        "print(\"What is the value on 2nd-row 3rd-column? \", tensor_example[1, 2])\n",
        "print(\"What is the value on 2nd-row 3rd-column? \", tensor_example[1][2])"
      ],
      "metadata": {
        "colab": {
          "base_uri": "https://localhost:8080/"
        },
        "id": "tXit9uXs3vEl",
        "outputId": "f165048c-19d0-41df-ee75-4bfb52cfe1d2"
      },
      "execution_count": 10,
      "outputs": [
        {
          "output_type": "stream",
          "name": "stdout",
          "text": [
            "What is the value on 2nd-row 3rd-column?  tensor(23)\n",
            "What is the value on 2nd-row 3rd-column?  tensor(23)\n"
          ]
        }
      ]
    },
    {
      "cell_type": "markdown",
      "source": [],
      "metadata": {
        "id": "mOQRrBl231Py"
      }
    },
    {
      "cell_type": "code",
      "source": [
        "# Use tensor_obj[begin_row_number: end_row_number, begin_column_number: end_column number]\n",
        "# and tensor_obj[row][begin_column_number: end_column number] to do the slicing\n",
        "\n",
        "tensor_example = torch.tensor([[11, 12, 13], [21, 22, 23], [31, 32, 33]])\n",
        "print(\"What is the value on 1st-row first two columns? \", tensor_example[0, 0:2])\n",
        "print(\"What is the value on 1st-row first two columns? \", tensor_example[0][0:2])"
      ],
      "metadata": {
        "colab": {
          "base_uri": "https://localhost:8080/"
        },
        "id": "9Ub5yi9Z36i2",
        "outputId": "feaee008-8505-4c30-c335-ece56191380a"
      },
      "execution_count": 11,
      "outputs": [
        {
          "output_type": "stream",
          "name": "stdout",
          "text": [
            "What is the value on 1st-row first two columns?  tensor([11, 12])\n",
            "What is the value on 1st-row first two columns?  tensor([11, 12])\n"
          ]
        }
      ]
    },
    {
      "cell_type": "code",
      "source": [
        "# Give an idea on tensor_obj[number: number][number]\n",
        "\n",
        "tensor_example = torch.tensor([[11, 12, 13], [21, 22, 23], [31, 32, 33]])\n",
        "print(\"dimension: \",tensor_example.ndimension())\n",
        "sliced_tensor_example = tensor_example[1:3]\n",
        "print(\"1. Slicing step on tensor_example: \")\n",
        "print(\"Result after tensor_example[1:3]: \", sliced_tensor_example)\n",
        "print(\"Dimension after tensor_example[1:3]: \", sliced_tensor_example.ndimension())\n",
        "print(\"================================================\")\n",
        "print(\"2. Pick an index on sliced_tensor_example: \")\n",
        "print(\"Result after sliced_tensor_example[1]: \", sliced_tensor_example[1])\n",
        "print(\"Dimension after sliced_tensor_example[1]: \", sliced_tensor_example[1].ndimension())\n",
        "print(\"================================================\")\n",
        "print(\"3. Combine these step together:\")\n",
        "print(\"Result: \", tensor_example[1:3][1])\n",
        "print(\"Dimension: \", tensor_example[1:3][1].ndimension())\n",
        "\n"
      ],
      "metadata": {
        "colab": {
          "base_uri": "https://localhost:8080/"
        },
        "id": "dwf4H5ta4E7m",
        "outputId": "1fb6d4d4-a7e7-43b5-d119-5bc5badca131"
      },
      "execution_count": 14,
      "outputs": [
        {
          "output_type": "stream",
          "name": "stdout",
          "text": [
            "dimension:  2\n",
            "1. Slicing step on tensor_example: \n",
            "Result after tensor_example[1:3]:  tensor([[21, 22, 23],\n",
            "        [31, 32, 33]])\n",
            "Dimension after tensor_example[1:3]:  2\n",
            "================================================\n",
            "2. Pick an index on sliced_tensor_example: \n",
            "Result after sliced_tensor_example[1]:  tensor([31, 32, 33])\n",
            "Dimension after sliced_tensor_example[1]:  1\n",
            "================================================\n",
            "3. Combine these step together:\n",
            "Result:  tensor([31, 32, 33])\n",
            "Dimension:  1\n"
          ]
        }
      ]
    },
    {
      "cell_type": "code",
      "source": [
        "# Calculate 2 * [[2, 1], [1, 2]]\n",
        "\n",
        "Y = torch.tensor([[2, 1], [1, 2]])\n",
        "two_Y = 2 * Y\n",
        "print(\"The result of 2Y: \", two_Y)\n",
        "\n",
        "# Calculate [[1, 0], [0, 1]] * [[2, 1], [1, 2]]\n",
        "\n",
        "X = torch.tensor([[1, 0], [0, 1]])\n",
        "Y = torch.tensor([[2, 1], [1, 2]])\n",
        "X_times_Y = X * Y\n",
        "print(\"The result of X * Y: \", X_times_Y) # hadamard product, multiply the same row and same column of each vector\n"
      ],
      "metadata": {
        "colab": {
          "base_uri": "https://localhost:8080/"
        },
        "id": "ahF1lFz640Uz",
        "outputId": "73d226e5-7341-4759-b398-72c655868313"
      },
      "execution_count": 17,
      "outputs": [
        {
          "output_type": "stream",
          "name": "stdout",
          "text": [
            "The result of 2Y:  tensor([[4, 2],\n",
            "        [2, 4]])\n",
            "The result of X * Y:  tensor([[2, 0],\n",
            "        [0, 2]])\n"
          ]
        }
      ]
    },
    {
      "cell_type": "markdown",
      "source": [
        "**Matrix multiplication**"
      ],
      "metadata": {
        "id": "K8-wxOYj5F-y"
      }
    },
    {
      "cell_type": "code",
      "source": [
        "# Calculate [[0, 1, 1], [1, 0, 1]] * [[1, 1], [1, 1], [-1, 1]]\n",
        "\n",
        "A = torch.tensor([[0, 1, 1], [1, 0, 1]])\n",
        "B = torch.tensor([[1, 1], [1, 1], [-1, 1]])\n",
        "A_times_B = torch.mm(A,B)\n",
        "print(\"The result of A * B: \", A_times_B)"
      ],
      "metadata": {
        "colab": {
          "base_uri": "https://localhost:8080/"
        },
        "id": "-LZxFsJ75Fwe",
        "outputId": "e6510027-5a90-49aa-bf06-d4a70255f4a4"
      },
      "execution_count": 18,
      "outputs": [
        {
          "output_type": "stream",
          "name": "stdout",
          "text": [
            "The result of A * B:  tensor([[0, 2],\n",
            "        [0, 2]])\n"
          ]
        }
      ]
    }
  ]
}